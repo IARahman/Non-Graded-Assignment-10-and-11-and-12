{
 "cells": [
  {
   "cell_type": "markdown",
   "metadata": {},
   "source": [
    "Buatlah sebuah kode untuk mensimulasikan melempar koin sebanyak 50.000 kali dengan assign value random berupa 0 dan 1 untuk kepala atau ekor. Setiap kali koin dilempar, peluang untuk mendapatkan kepala atau ekor adalah 50%.\n",
    "\n",
    "https://www.kaggle.com/datasets/hendratno/covid19-indonesia\n",
    "- Cari Measure of Central Tendency dari data tersebut.- Cari Measure of Variance dari data tersebut.\n",
    "\n",
    "https://www.kaggle.com/datasets/hendratno/covid19-indonesia\n",
    "- Lakukan hypothesis testing terhadap dataset diatas.- Ambil kesimpulan dari hasil analisa."
   ]
  },
  {
   "cell_type": "markdown",
   "metadata": {},
   "source": [
    "# **Non Graded Challenge: Statistics**"
   ]
  },
  {
   "cell_type": "markdown",
   "metadata": {},
   "source": [
    "## **Identity**"
   ]
  },
  {
   "cell_type": "markdown",
   "metadata": {},
   "source": [
    "Ihsan Aulia Rahman\n",
    "\n",
    "Full Time Data Science\n",
    "\n",
    "HCK-Batch-001"
   ]
  },
  {
   "cell_type": "markdown",
   "metadata": {},
   "source": [
    "# **Library**"
   ]
  },
  {
   "cell_type": "code",
   "execution_count": 14,
   "metadata": {},
   "outputs": [],
   "source": [
    "import numpy as np\n",
    "from numpy.linalg import inv, det, eig\n",
    "from numpy import diag\n",
    "\n",
    "import sympy as sy\n",
    "from sympy.tensor.array import derive_by_array\n",
    "\n",
    "import matplotlib.pyplot as plt\n",
    "import pandas as pd\n",
    "import seaborn as sns\n",
    "import random\n",
    "\n",
    "from pylab import *\n",
    "\n",
    "import scipy\n",
    "import scipy.stats as stats\n",
    "\n",
    "def plot_vector2d(vector2d, origin=[0, 0], **options):\n",
    "    return plt.arrow(origin[0], origin[1], vector2d[0], vector2d[1],\n",
    "              head_width=0.2, head_length=0.3, length_includes_head=True,\n",
    "              **options)"
   ]
  },
  {
   "cell_type": "markdown",
   "metadata": {},
   "source": [
    "# **Dataframe**"
   ]
  },
  {
   "cell_type": "code",
   "execution_count": 4,
   "metadata": {},
   "outputs": [],
   "source": [
    "df = pd.read_csv('https://raw.githubusercontent.com/IARahman/Non-Graded-Assignment-10-and-11-and-12/main/covid_19_indonesia_time_series_all.csv')"
   ]
  },
  {
   "cell_type": "markdown",
   "metadata": {},
   "source": [
    "# **NGC 10**"
   ]
  },
  {
   "cell_type": "markdown",
   "metadata": {},
   "source": [
    "## Buatlah sebuah kode untuk mensimulasikan melempar koin sebanyak 50.000 kali dengan assign value random berupa 0 dan 1 untuk kepala atau ekor. Setiap kali koin dilempar, peluang untuk mendapatkan kepala atau ekor adalah 50%."
   ]
  },
  {
   "cell_type": "code",
   "execution_count": 17,
   "metadata": {},
   "outputs": [
    {
     "name": "stdout",
     "output_type": "stream",
     "text": [
      "Hasil simulasi: \n",
      "Gambar:  9888 \n",
      "Angka:  10112\n"
     ]
    }
   ],
   "source": [
    "import random\n",
    "gambar_angka = [0,0]\n",
    "lempar = 20000\n",
    "lemparan_ke = 0\n",
    "while lemparan_ke < lempar:\n",
    "    lemparan_ke = lemparan_ke + 1\n",
    "    hasil = random.randint(0,1)\n",
    "    gambar_angka[hasil] = gambar_angka[hasil] + 1\n",
    "print ('Hasil simulasi: \\nGambar: ', gambar_angka[0], '\\nAngka: ', gambar_angka[1])"
   ]
  },
  {
   "cell_type": "markdown",
   "metadata": {},
   "source": [
    "# **NGC 11**"
   ]
  },
  {
   "cell_type": "markdown",
   "metadata": {},
   "source": [
    "## Cari Measure of Central Tendency dari data tersebut."
   ]
  },
  {
   "cell_type": "code",
   "execution_count": 57,
   "metadata": {},
   "outputs": [
    {
     "name": "stdout",
     "output_type": "stream",
     "text": [
      "\n",
      "Daily New Cases: \n",
      "Average:  13241.301710730948 \n",
      "Median:  8180.0 \n",
      "Mode:  3.0\n",
      "\n",
      "Daily New Deaths: \n",
      "Average:  447.3763608087092 \n",
      "Median:  223.0 \n",
      "Mode:  6.0\n",
      "\n",
      "Daily New Recovered: \n",
      "Average:  12768.133748055987 \n",
      "Median:  7721.0 \n",
      "Mode:  7.0\n"
     ]
    }
   ],
   "source": [
    "sdf = df.copy()\n",
    "sdf['Date'] = pd.to_datetime(sdf['Date'])\n",
    "sdf = sdf.groupby('Date').agg(Daily_New_Cases=('New Cases',np.sum),\n",
    "                              Daily_New_Deaths=('New Deaths',np.sum),\n",
    "                              Daily_New_Recoveries=('New Recovered',np.sum)).sort_values('Date')\n",
    "\n",
    "cases = np.array([np.mean(sdf['Daily_New_Cases']), np.median(sdf['Daily_New_Cases']), stats.mode(sdf['Daily_New_Cases'])[1][0]])\n",
    "deaths = np.array([np.mean(sdf['Daily_New_Deaths']), np.median(sdf['Daily_New_Deaths']), stats.mode(sdf['Daily_New_Deaths'])[1][0]])\n",
    "recovered = np.array([np.mean(sdf['Daily_New_Recoveries']), np.median(sdf['Daily_New_Recoveries']), stats.mode(sdf['Daily_New_Recoveries'])[1][0]])\n",
    "\n",
    "print('')\n",
    "print('Daily New Cases: ')\n",
    "print('Average: ', cases[0], '\\nMedian: ', cases[1], '\\nMode: ', cases[2])\n",
    "print('')\n",
    "print('Daily New Deaths: ')\n",
    "print('Average: ', deaths[0], '\\nMedian: ', deaths[1], '\\nMode: ', deaths[2])\n",
    "print('')\n",
    "print('Daily New Recovered: ')\n",
    "print('Average: ', recovered[0], '\\nMedian: ', recovered[1], '\\nMode: ', recovered[2])"
   ]
  },
  {
   "cell_type": "markdown",
   "metadata": {},
   "source": [
    "## Cari Measure of Variance dari data tersebut."
   ]
  },
  {
   "cell_type": "code",
   "execution_count": 69,
   "metadata": {},
   "outputs": [
    {
     "name": "stdout",
     "output_type": "stream",
     "text": [
      "\n",
      "Daily New Cases: \n",
      "Range:  112997.0 \n",
      "Variance:  362674505.54816186 \n",
      "Standard Deviation:  19044.01495347454\n",
      "\n",
      "Daily New Deaths: \n",
      "Range:  4139.0 \n",
      "Variance:  510491.111851764 \n",
      "Standard Deviation:  714.4866071885211\n",
      "\n",
      "Daily New Recovered: \n",
      "Range:  97377.0 \n",
      "Variance:  324873471.4751128 \n",
      "Standard Deviation:  18024.246765818338\n"
     ]
    }
   ],
   "source": [
    "cases = np.array([sdf['Daily_New_Cases'].max() - sdf['Daily_New_Cases'].min(), np.var(sdf['Daily_New_Cases']), np.std(sdf['Daily_New_Cases'])])\n",
    "deaths = np.array([sdf['Daily_New_Deaths'].max() - sdf['Daily_New_Deaths'].min(), np.var(sdf['Daily_New_Deaths']), np.std(sdf['Daily_New_Deaths'])])\n",
    "recovered = np.array([sdf['Daily_New_Recoveries'].max() - sdf['Daily_New_Recoveries'].min(), np.var(sdf['Daily_New_Recoveries']), np.std(sdf['Daily_New_Recoveries'])])\n",
    "\n",
    "print('')\n",
    "print('Daily New Cases: ')\n",
    "print('Range: ', cases[0], '\\nVariance: ', cases[1], '\\nStandard Deviation: ', cases[2])\n",
    "print('')\n",
    "print('Daily New Deaths: ')\n",
    "print('Range: ', deaths[0], '\\nVariance: ', deaths[1], '\\nStandard Deviation: ', deaths[2])\n",
    "print('')\n",
    "print('Daily New Recovered: ')\n",
    "print('Range: ', recovered[0], '\\nVariance: ', recovered[1], '\\nStandard Deviation: ', recovered[2])"
   ]
  },
  {
   "cell_type": "markdown",
   "metadata": {},
   "source": [
    "# **NGC 12**"
   ]
  },
  {
   "cell_type": "markdown",
   "metadata": {},
   "source": [
    "## Lakukan hypothesis testing terhadap dataset diatas."
   ]
  },
  {
   "cell_type": "markdown",
   "metadata": {},
   "source": [
    "H0: 2020 μ =< 2021 μ\n",
    "H1: 2020 μ > 2021 μ"
   ]
  },
  {
   "cell_type": "code",
   "execution_count": 100,
   "metadata": {},
   "outputs": [
    {
     "name": "stdout",
     "output_type": "stream",
     "text": [
      "P-value: 2.7229429901910602e-183\n",
      "t-statistics: -66.18712388546872\n"
     ]
    }
   ],
   "source": [
    "y2020 = sdf.loc[(sdf.index >= '2020-03-01') & (sdf.index <= '2020-12-31')]\n",
    "y2020avg = y2020.groupby(\"Date\")['Daily_New_Cases'].mean()\n",
    "y2021 = sdf.loc[(sdf.index >= '2021-01-01') & (sdf.index <= '2021-12-31')]\n",
    "y2021avg = y2021['Daily_New_Cases'].mean()\n",
    "t_stat,p_val = stats.ttest_1samp(y2020avg, y2021avg)\n",
    "print('P-value:',p_val/2)\n",
    "print('t-statistics:',t_stat)"
   ]
  },
  {
   "cell_type": "markdown",
   "metadata": {},
   "source": [
    "## Ambil kesimpulan dari hasil analisa."
   ]
  },
  {
   "cell_type": "code",
   "execution_count": null,
   "metadata": {},
   "outputs": [],
   "source": [
    "P-value lebih rendah dari 0.05. H0 ditolak. Rerata kasus baru tahun 2021 lebih tinggi daripada 2020."
   ]
  }
 ],
 "metadata": {
  "kernelspec": {
   "display_name": "Python 3.9.12 ('base')",
   "language": "python",
   "name": "python3"
  },
  "language_info": {
   "codemirror_mode": {
    "name": "ipython",
    "version": 3
   },
   "file_extension": ".py",
   "mimetype": "text/x-python",
   "name": "python",
   "nbconvert_exporter": "python",
   "pygments_lexer": "ipython3",
   "version": "3.9.12"
  },
  "orig_nbformat": 4,
  "vscode": {
   "interpreter": {
    "hash": "8729cc833bbf327f7266d01ded31405701701a7d3e257bb9fce582aaef9de1ab"
   }
  }
 },
 "nbformat": 4,
 "nbformat_minor": 2
}
